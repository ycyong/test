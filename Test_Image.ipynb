{
 "cells": [
  {
   "cell_type": "markdown",
   "id": "772f4e6d",
   "metadata": {},
   "source": [
    "### Trading P&L of a Vanilla Option\n",
    "#### Daily Trading P&L\n",
    "\n",
    "**Remark**\n",
    "* Typically Gamma and Theta have **opposite signs**, see the Graph below:\n",
    "    - For a long call or put position, Gamma is positive and Theta is negative, i.e. the trader is long shocks/volatility (she makes money as the stock price moves) and short time (she loses money as maturity approaches.)\n",
    "    - For a short call or put position, the situation is reversed.\n",
    "\n",
    "<center><img src=\"Image/GammavsTheta.png\" style=\"float: centre;\" width=\"600\" height=\"500\" ></img>  </center>\n",
    "\n",
    "Plugging Equation $3$ into Equation $2$, we obtain a characterization of the daily P&L in terms of squared return and squared implied volatility: \n"
   ]
  },
  {
   "cell_type": "code",
   "execution_count": null,
   "id": "76f2d43d",
   "metadata": {},
   "outputs": [],
   "source": []
  }
 ],
 "metadata": {
  "kernelspec": {
   "display_name": "Python 3 (ipykernel)",
   "language": "python",
   "name": "python3"
  },
  "language_info": {
   "codemirror_mode": {
    "name": "ipython",
    "version": 3
   },
   "file_extension": ".py",
   "mimetype": "text/x-python",
   "name": "python",
   "nbconvert_exporter": "python",
   "pygments_lexer": "ipython3",
   "version": "3.9.7"
  }
 },
 "nbformat": 4,
 "nbformat_minor": 5
}
